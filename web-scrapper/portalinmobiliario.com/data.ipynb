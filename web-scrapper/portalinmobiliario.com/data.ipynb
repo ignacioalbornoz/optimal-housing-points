{
 "cells": [
  {
   "cell_type": "code",
   "execution_count": 3,
   "metadata": {
    "tags": []
   },
   "outputs": [],
   "source": [
    "from helpers import *\n",
    "import pandas as pd \n",
    "import numpy as np \n",
    "import re\n",
    "from geopy.geocoders import Nominatim\n",
    "geolocator = Nominatim(user_agent=\"my_app3\")\n",
    "\n",
    "import time"
   ]
  },
  {
   "cell_type": "code",
   "execution_count": 4,
   "metadata": {
    "tags": []
   },
   "outputs": [
    {
     "name": "stdout",
     "output_type": "stream",
     "text": [
      "Web Scraping Portal Inmobiliario\n",
      "Buscando departamento para arriendo....\n",
      "https://www.portalinmobiliario.com/arriendo/departamento/santiago-metropolitana/_Desde_1\n"
     ]
    },
    {
     "ename": "NameError",
     "evalue": "name 'driver' is not defined",
     "output_type": "error",
     "traceback": [
      "\u001b[0;31m---------------------------------------------------------------------------\u001b[0m",
      "\u001b[0;31mNameError\u001b[0m                                 Traceback (most recent call last)",
      "Cell \u001b[0;32mIn[4], line 16\u001b[0m\n\u001b[1;32m      1\u001b[0m \u001b[39m#Realizar Web Scraping \u001b[39;00m\n\u001b[1;32m      2\u001b[0m \u001b[39m\"\"\"\u001b[39;00m\n\u001b[1;32m      3\u001b[0m \u001b[39mRegion: Recomendable escribir nombre de region igual al configurado  por defecto en la pagina de portal inmobiliario\u001b[39;00m\n\u001b[1;32m      4\u001b[0m \u001b[39m        fijarse en url de busqueda, por ejemplo: al escribir santiago en buscador principal, la pagina redirige a los resultados con la         categoria \"santiago-metropolitana\"\u001b[39;00m\n\u001b[0;32m   (...)\u001b[0m\n\u001b[1;32m     13\u001b[0m \u001b[39m(considerar que webscraping esta optimizado para departamentos, por lo que puede que al utilizar otro tipo de inmueble algunas columnas como baños, habitaciones,etc podrian no coincidir, debido a que la información para cada tipo de inmueble es distinta)\u001b[39;00m\n\u001b[1;32m     14\u001b[0m \u001b[39m\"\"\"\u001b[39;00m\n\u001b[0;32m---> 16\u001b[0m df \u001b[39m=\u001b[39m webscraping_deptos(region\u001b[39m=\u001b[39;49m\u001b[39m\"\u001b[39;49m\u001b[39msantiago-metropolitana\u001b[39;49m\u001b[39m\"\u001b[39;49m,pages\u001b[39m=\u001b[39;49m\u001b[39m1\u001b[39;49m,\u001b[39mtype\u001b[39;49m\u001b[39m=\u001b[39;49m\u001b[39m'\u001b[39;49m\u001b[39mdepartamento\u001b[39;49m\u001b[39m'\u001b[39;49m,scope\u001b[39m=\u001b[39;49m\u001b[39m'\u001b[39;49m\u001b[39marriendo\u001b[39;49m\u001b[39m'\u001b[39;49m)\n\u001b[1;32m     17\u001b[0m \u001b[39mprint\u001b[39m(df)\n",
      "File \u001b[0;32m~/FCFM/2023-1/Ciencia de datos geográficos/apartment-rental-chile/helpers.py:53\u001b[0m, in \u001b[0;36mwebscraping_deptos\u001b[0;34m(region, pages, type, scope)\u001b[0m\n\u001b[1;32m     51\u001b[0m main_url \u001b[39m=\u001b[39m \u001b[39m'\u001b[39m\u001b[39mhttps://www.portalinmobiliario.com/\u001b[39m\u001b[39m'\u001b[39m\u001b[39m+\u001b[39mscope\u001b[39m.\u001b[39mlower()\u001b[39m.\u001b[39mreplace(\u001b[39m\"\u001b[39m\u001b[39m \u001b[39m\u001b[39m\"\u001b[39m,\u001b[39m\"\u001b[39m\u001b[39m-\u001b[39m\u001b[39m\"\u001b[39m)\u001b[39m+\u001b[39m\u001b[39m'\u001b[39m\u001b[39m/\u001b[39m\u001b[39m'\u001b[39m\u001b[39m+\u001b[39m\u001b[39mtype\u001b[39m\u001b[39m+\u001b[39m\u001b[39m'\u001b[39m\u001b[39m/\u001b[39m\u001b[39m'\u001b[39m\u001b[39m+\u001b[39mregion\u001b[39m+\u001b[39m\u001b[39m'\u001b[39m\u001b[39m/_Desde_\u001b[39m\u001b[39m'\u001b[39m\u001b[39m+\u001b[39m \u001b[39mstr\u001b[39m(i)\n\u001b[1;32m     52\u001b[0m \u001b[39mprint\u001b[39m(main_url)\n\u001b[0;32m---> 53\u001b[0m driver\u001b[39m.\u001b[39mget(main_url)\n\u001b[1;32m     55\u001b[0m \u001b[39m#main_response = requests.get(main_url)\u001b[39;00m\n\u001b[1;32m     56\u001b[0m sleep(\u001b[39m5\u001b[39m)\n",
      "\u001b[0;31mNameError\u001b[0m: name 'driver' is not defined"
     ]
    }
   ],
   "source": [
    "#Realizar Web Scraping \n",
    "\"\"\"\n",
    "Region: Recomendable escribir nombre de region igual al configurado  por defecto en la pagina de portal inmobiliario\n",
    "        fijarse en url de busqueda, por ejemplo: al escribir santiago en buscador principal, la pagina redirige a los resultados con la         categoria \"santiago-metropolitana\"\n",
    "pagina principal: https://www.portalinmobiliario.com/\n",
    "ejemplo nombre de region url: https://www.portalinmobiliario.com/arriendo/departamento/santiago-metropolitana\n",
    "\n",
    "Pages: Cantidad de paginas de resultados para la busqueda de ofertas,  no se puede superar el numero de paginas de resultados que existen en portalinmobiliario según la region especificada.\n",
    "\n",
    "Scopes: pueden ser arriendo o venta.\n",
    "\n",
    "type: puede ser departamento, casa, sitio, parcela, oficina, comercial, industrial, agricola, terreno-en-construccion, bodega, estacionamiento,  loteo, otros \n",
    "(considerar que webscraping esta optimizado para departamentos, por lo que puede que al utilizar otro tipo de inmueble algunas columnas como baños, habitaciones,etc podrian no coincidir, debido a que la información para cada tipo de inmueble es distinta)\n",
    "\"\"\"\n",
    "\n",
    "df = webscraping_deptos(region=\"santiago-metropolitana\",pages=1,type='departamento',scope='arriendo')\n",
    "print(df)"
   ]
  },
  {
   "cell_type": "code",
   "execution_count": 3,
   "metadata": {},
   "outputs": [],
   "source": [
    "from datetime import datetime\n",
    "\n",
    "now = datetime.now()\n",
    "formatted_time = now.strftime(\"%Y-%m-%d %H:%M:%S\")\n",
    "\n",
    "df.to_csv('data-raw_'+formatted_time+'.csv',index=False)"
   ]
  },
  {
   "cell_type": "code",
   "execution_count": 6,
   "metadata": {},
   "outputs": [],
   "source": [
    "def clean_data(df):\n",
    "    df = df[df.titulo.notnull()]\n",
    "    df['titulo'] = df['titulo'].str.replace(r\"\\n|\\t\",\"\")\n",
    "    df['titulo'] = df['titulo'].str.replace(r\"\\n|\\t\",\"\")\n",
    "    df['descripcion'] = df['descripcion'].str.replace(r\"\\n|\\t\",\"\")\n",
    "    df['ambiente'] = df['ambiente'].str.replace(r\"\\n\",\"\").str.replace(r\"\\t\\t\",\"; \").str.replace(r\"\\t\",\"\")\n",
    "    df['comodidades'] = df['comodidades'].str.replace(r\"\\n\",\"\").str.replace(r\"\\t\\t\",\"; \").str.replace(r\"\\t\",\"\")\n",
    "    df['otras caracteristicas'] = df['otras caracteristicas'].str.replace(r\"\\n\",\"\").str.replace(r\"\\t\\t\",\"; \").str.replace(r\"\\t\",\"\")\n",
    "    df['precio'] = df['precio'].str.replace(\".\",\"\")\n",
    "    df['gastos comunes'] = df['gastos comunes'].str.replace(\"CLP\",\"\")\n",
    "    df['habitaciones'] = df['habitaciones'].str.replace(r\"-\\s+\\d\\s\\w*\",\"\").str.replace('Dormitorio',\"\").str.strip()\n",
    "    df['banos'] = df['banos'].str.replace(r\"-\\s+\\d\\s\\w*\",\"\").str.replace(r'Baño|s',\"\").str.strip()\n",
    "    df['direccion'] = df['direccion'].str.replace(\"/\",\",\")\n",
    "    df['m2_utiles'] = df['m2_utiles'].str.replace(r\"-.*$|m.\",\"\")\n",
    "\n",
    "    return df"
   ]
  },
  {
   "cell_type": "code",
   "execution_count": 7,
   "metadata": {},
   "outputs": [],
   "source": [
    "df = clean_data(df)"
   ]
  },
  {
   "cell_type": "code",
   "execution_count": 11,
   "metadata": {},
   "outputs": [],
   "source": [
    "df.to_csv('clean-data'+formatted_time+'.csv',index=False)"
   ]
  },
  {
   "cell_type": "code",
   "execution_count": 5,
   "metadata": {},
   "outputs": [],
   "source": [
    "#Agregar coordenadas geograficas de direcciones a Data Frame con libreria geopy\n",
    "targets_address= df['direccion'].tolist()\n",
    "\n",
    "latitude = []\n",
    "longitude = []\n",
    "\n",
    "for target in targets_address:\n",
    "\n",
    "    location = geolocator.geocode(target)\n",
    "    if location == None:\n",
    "        latitude.append(np.nan)\n",
    "        longitude.append(np.nan)\n",
    "    else:\n",
    "        latitude.append(location.latitude)\n",
    "        longitude.append(location.longitude)"
   ]
  },
  {
   "cell_type": "code",
   "execution_count": 6,
   "metadata": {},
   "outputs": [],
   "source": [
    "#Almacenar resultados en Data Frame\n",
    "df['latitude'] = latitude\n",
    "df['longitude'] = longitude"
   ]
  },
  {
   "cell_type": "code",
   "execution_count": 7,
   "metadata": {},
   "outputs": [],
   "source": [
    "#Crear nuevo data frame con  direcciones validas y coordeandas geograficas no nulas \n",
    "geo_df = df[~df['latitude'].isnull()]\n",
    "geo_df['City'] = 'Santiago'"
   ]
  },
  {
   "cell_type": "code",
   "execution_count": 8,
   "metadata": {},
   "outputs": [],
   "source": [
    "geo_df.to_csv('santiago'+formatted_time+'.csv',index=False)"
   ]
  }
 ],
 "metadata": {
  "kernelspec": {
   "display_name": "Python 3.8.5 64-bit",
   "metadata": {
    "interpreter": {
     "hash": "265f6c375f5723599e793514545a17c1828385c656a37de44dc67ad3be04634e"
    }
   },
   "name": "python3"
  },
  "language_info": {
   "codemirror_mode": {
    "name": "ipython",
    "version": 3
   },
   "file_extension": ".py",
   "mimetype": "text/x-python",
   "name": "python",
   "nbconvert_exporter": "python",
   "pygments_lexer": "ipython3",
   "version": "3.10.6"
  },
  "orig_nbformat": 2
 },
 "nbformat": 4,
 "nbformat_minor": 2
}
