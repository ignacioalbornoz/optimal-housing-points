{
 "cells": [
  {
   "cell_type": "code",
   "execution_count": 1,
   "metadata": {
    "tags": []
   },
   "outputs": [],
   "source": [
    "from helpers import *\n",
    "import pandas as pd \n",
    "import numpy as np \n",
    "import re\n",
    "from geopy.geocoders import Nominatim\n",
    "geolocator = Nominatim(user_agent=\"my_app3\", timeout=5)\n",
    "import time"
   ]
  },
  {
   "cell_type": "code",
   "execution_count": 2,
   "metadata": {
    "tags": []
   },
   "outputs": [
    {
     "name": "stdout",
     "output_type": "stream",
     "text": [
      "Total informacion extraida de departamentos en arriendo: 1749\n",
      "Web Scraping Completado!\n",
      "\n",
      "                                              direccion      precio   \n",
      "0     Evita usar formas de pago informales para el p...   2.100.000  \\\n",
      "1     Santa María / Carolina Rabat, Santa María de M...          55   \n",
      "2     Punta De Aguila/golf De Manquehue, Los Trapens...         100   \n",
      "3     Jardin Del Este, Jardín Del Este, Vitacura, RM...   2.300.000   \n",
      "4     Vitacura/vespucio, Parque Bicentenario, Vitacu...          65   \n",
      "...                                                 ...         ...   \n",
      "1744  Nueva Andres Bello  1860, Juan Antonio Ríos, I...  99.000.000   \n",
      "1745  San Diego 1473, Santiago, Chile, Parque O'Higg...  85.000.000   \n",
      "1746  El Ciruelillo 3830, Vitacura, Chile, Parque Bi...          65   \n",
      "1747  Avenida Inglaterra 1144, Independencia, Chile,...     390.000   \n",
      "1748  El Gabino 13118, Lo Barnechea, Chile, La Dehes...          45   \n",
      "\n",
      "                            gastos_comunes   \n",
      "0     Gastos comunes aproximados $ 320.000  \\\n",
      "1     Gastos comunes aproximados $ 320.000   \n",
      "2     Gastos comunes aproximados $ 700.000   \n",
      "3     Gastos comunes aproximados $ 400.000   \n",
      "4     Gastos comunes aproximados $ 360.000   \n",
      "...                                    ...   \n",
      "1744   Gastos comunes aproximados $ 60.000   \n",
      "1745   Gastos comunes aproximados $ 60.000   \n",
      "1746  Gastos comunes aproximados $ 250.000   \n",
      "1747   Gastos comunes aproximados $ 58.000   \n",
      "1748                                   NaN   \n",
      "\n",
      "                               caracteristicas  num_caracteristicas   \n",
      "0                                                                 0  \\\n",
      "1     199 m² totales / 4 dormitorios / 4 baños                    3   \n",
      "2     304 m² totales / 4 dormitorios / 5 baños                    3   \n",
      "3     236 m² totales / 4 dormitorios / 5 baños                    3   \n",
      "4     261 m² totales / 4 dormitorios / 4 baños                    3   \n",
      "...                                        ...                  ...   \n",
      "1744    63 m² totales / 3 dormitorios / 1 baño                    3   \n",
      "1745    40 m² totales / 2 dormitorios / 1 baño                    3   \n",
      "1746  186 m² totales / 4 dormitorios / 4 baños                    3   \n",
      "1747    44 m² totales / 2 dormitorios / 1 baño                    3   \n",
      "1748  155 m² totales / 4 dormitorios / 4 baños                    3   \n",
      "\n",
      "     fecha_descarga                            fecha_publicacion   \n",
      "0        2023-06-14  Publicado hace 32 días por Lyon & Balmaceda  \\\n",
      "1        2023-06-14  Publicado hace 14 días por Lyon & Balmaceda   \n",
      "2        2023-06-14   Publicado hace 7 días por Lyon & Balmaceda   \n",
      "3        2023-06-14  Publicado hace 26 días por Lyon & Balmaceda   \n",
      "4        2023-06-14  Publicado hace 3 meses por Lyon & Balmaceda   \n",
      "...             ...                                          ...   \n",
      "1744     2023-06-14                       Publicado hace 4 meses   \n",
      "1745     2023-06-14                       Publicado hace 39 días   \n",
      "1746     2023-06-14                       Publicado hace 18 días   \n",
      "1747     2023-06-14                       Publicado hace 21 días   \n",
      "1748     2023-06-14                        Publicado hace 7 días   \n",
      "\n",
      "                                                 titulo   \n",
      "0     Amplio Y Nuevo Depto Penthouse En Arriendo La ...  \\\n",
      "1       Departamento En Arriendo De 4 Dorm. En Vitacura   \n",
      "2     Espectacular Duplex En Arriendo De 4 Dorm. En ...   \n",
      "3     Departamento En Arriendo De 4 Dorm. En Jardín ...   \n",
      "4       Departamento En Arriendo De 4 Dorm. En Vitacura   \n",
      "...                                                 ...   \n",
      "1744  Excelente Departamento Venta 3d-1b-estac - Ind...   \n",
      "1745                             Departamento San Diego   \n",
      "1746                          Duplex Con Jardin Privado   \n",
      "1747                        Departamento Independencia    \n",
      "1748         Departamento 4d 4b | La Dehesa | El Gabino   \n",
      "\n",
      "                                                    url  \n",
      "0     https://www.portalinmobiliario.com/MLC-1391902...  \n",
      "1     https://www.portalinmobiliario.com/MLC-1713911...  \n",
      "2     https://www.portalinmobiliario.com/MLC-1391398...  \n",
      "3     https://www.portalinmobiliario.com/MLC-1385459...  \n",
      "4     https://www.portalinmobiliario.com/MLC-1361162...  \n",
      "...                                                 ...  \n",
      "1744  https://www.portalinmobiliario.com/MLC-1718470...  \n",
      "1745  https://www.portalinmobiliario.com/MLC-1721208...  \n",
      "1746  https://www.portalinmobiliario.com/MLC-1701978...  \n",
      "1747  https://www.portalinmobiliario.com/MLC-1386825...  \n",
      "1748  https://www.portalinmobiliario.com/MLC-1723922...  \n",
      "\n",
      "[1749 rows x 9 columns]\n"
     ]
    }
   ],
   "source": [
    "#Realizar Web Scraping \n",
    "\"\"\"\n",
    "Region: Recomendable escribir nombre de region igual al configurado  por defecto en la pagina de portal inmobiliario\n",
    "        fijarse en url de busqueda, por ejemplo: al escribir santiago en buscador principal, la pagina redirige a los resultados con la         categoria \"santiago-metropolitana\"\n",
    "pagina principal: https://www.portalinmobiliario.com/\n",
    "ejemplo nombre de region url: https://www.portalinmobiliario.com/arriendo/departamento/santiago-metropolitana\n",
    "ejemplo nombre de region url con rango de precio: https://www.portalinmobiliario.com/arriendo/departamento/santiago-metropolitana/_PriceRange_370000CLP-450000LP\n",
    "\n",
    "https://www.portalinmobiliario.com/arriendo/departamento/santiago-metropolitana/_PriceRange_450000CLP-0CLP\n",
    "\n",
    "Pages: Cantidad de paginas de resultados para la busqueda de ofertas,  no se puede superar el numero de paginas de resultados que existen en portalinmobiliario según la region especificada.\n",
    "\n",
    "Scopes: pueden ser arriendo o venta.\n",
    "\n",
    "type: puede ser departamento, casa, sitio, parcela, oficina, comercial, industrial, agricola, terreno-en-construccion, bodega, estacionamiento,  loteo, otros \n",
    "(considerar que webscraping esta optimizado para departamentos, por lo que puede que al utilizar otro tipo de inmueble algunas columnas como baños, habitaciones,etc podrian no coincidir, debido a que la información para cada tipo de inmueble es distinta)\n",
    "\"\"\"\n",
    "#rango_precio=\"_PriceRange_300001CLP-370000CLP\"\n",
    "rango_precio=\"_PriceRange_1596543CLP-0CLP\"\n",
    "#df = webscraping_deptos_all(region=\"metropolitana\",pages=40,type='departamento',scope='arriendo', rango_precio=rango_precio)\n",
    "df = webscraping_deptos_all(region=\"metropolitana\",type='departamento',scope='arriendo', rango_precio=rango_precio)\n",
    "print(df)"
   ]
  },
  {
   "cell_type": "code",
   "execution_count": null,
   "metadata": {},
   "outputs": [
    {
     "ename": "NameError",
     "evalue": "name 'df' is not defined",
     "output_type": "error",
     "traceback": [
      "\u001b[0;31m---------------------------------------------------------------------------\u001b[0m",
      "\u001b[0;31mNameError\u001b[0m                                 Traceback (most recent call last)",
      "Cell \u001b[0;32mIn[3], line 6\u001b[0m\n\u001b[1;32m      3\u001b[0m now \u001b[39m=\u001b[39m datetime\u001b[39m.\u001b[39mnow()\n\u001b[1;32m      4\u001b[0m formatted_time \u001b[39m=\u001b[39m now\u001b[39m.\u001b[39mstrftime(\u001b[39m\"\u001b[39m\u001b[39m%\u001b[39m\u001b[39mY-\u001b[39m\u001b[39m%\u001b[39m\u001b[39mm-\u001b[39m\u001b[39m%d\u001b[39;00m\u001b[39m \u001b[39m\u001b[39m%\u001b[39m\u001b[39mH-\u001b[39m\u001b[39m%\u001b[39m\u001b[39mM-\u001b[39m\u001b[39m%\u001b[39m\u001b[39mS\u001b[39m\u001b[39m\"\u001b[39m)\n\u001b[0;32m----> 6\u001b[0m df\u001b[39m.\u001b[39mto_csv(\u001b[39m'\u001b[39m\u001b[39m./data/\u001b[39m\u001b[39m'\u001b[39m\u001b[39m+\u001b[39m\u001b[39m'\u001b[39m\u001b[39mall-data-raw-from-santiago_\u001b[39m\u001b[39m'\u001b[39m\u001b[39m+\u001b[39mformatted_time\u001b[39m+\u001b[39m\u001b[39m'\u001b[39m\u001b[39m_\u001b[39m\u001b[39m'\u001b[39m\u001b[39m+\u001b[39m\u001b[39m'\u001b[39m\u001b[39m_\u001b[39m\u001b[39m'\u001b[39m\u001b[39m+\u001b[39m\u001b[39m'\u001b[39m\u001b[39m.csv\u001b[39m\u001b[39m'\u001b[39m,index\u001b[39m=\u001b[39m\u001b[39mFalse\u001b[39;00m)\n",
      "\u001b[0;31mNameError\u001b[0m: name 'df' is not defined"
     ]
    }
   ],
   "source": [
    "'''\n",
    "from datetime import datetime\n",
    "\n",
    "now = datetime.now()\n",
    "formatted_time = now.strftime(\"%Y-%m-%d %H-%M-%S\")\n",
    "\n",
    "df.to_csv('./data/'+'all-data-raw-from-santiago_'+formatted_time+'_'+'_'+'.csv',index=False)\n",
    "'''\n"
   ]
  },
  {
   "cell_type": "code",
   "execution_count": null,
   "metadata": {},
   "outputs": [],
   "source": [
    "def clean_data2(df):\n",
    "    df['direccion'] = df['direccion'].str.replace(\"/\",\",\")\n",
    "    return df"
   ]
  },
  {
   "cell_type": "code",
   "execution_count": null,
   "metadata": {},
   "outputs": [],
   "source": [
    "df = clean_data2(df)"
   ]
  },
  {
   "cell_type": "code",
   "execution_count": null,
   "metadata": {},
   "outputs": [],
   "source": [
    "def clean_data(df):\n",
    "    df = df[df.titulo.notnull()]\n",
    "    df['titulo'] = df['titulo'].str.replace(r\"\\n|\\t\",\"\")\n",
    "    df['titulo'] = df['titulo'].str.replace(r\"\\n|\\t\",\"\")\n",
    "    df['descripcion'] = df['descripcion'].str.replace(r\"\\n|\\t\",\"\")\n",
    "    df['ambiente'] = df['ambiente'].str.replace(r\"\\n\",\"\").str.replace(r\"\\t\\t\",\"; \").str.replace(r\"\\t\",\"\")\n",
    "    df['comodidades'] = df['comodidades'].str.replace(r\"\\n\",\"\").str.replace(r\"\\t\\t\",\"; \").str.replace(r\"\\t\",\"\")\n",
    "    df['otras caracteristicas'] = df['otras caracteristicas'].str.replace(r\"\\n\",\"\").str.replace(r\"\\t\\t\",\"; \").str.replace(r\"\\t\",\"\")\n",
    "    df['precio'] = df['precio'].str.replace(\".\",\"\")\n",
    "    df['gastos comunes'] = df['gastos comunes'].str.replace(\"CLP\",\"\")\n",
    "    df['habitaciones'] = df['habitaciones'].str.replace(r\"-\\s+\\d\\s\\w*\",\"\").str.replace('Dormitorio',\"\").str.strip()\n",
    "    df['banos'] = df['banos'].str.replace(r\"-\\s+\\d\\s\\w*\",\"\").str.replace(r'Baño|s',\"\").str.strip()\n",
    "    df['direccion'] = df['direccion'].str.replace(\"/\",\",\")\n",
    "    df['m2_utiles'] = df['m2_utiles'].str.replace(r\"-.*$|m.\",\"\")\n",
    "\n",
    "    return df"
   ]
  },
  {
   "cell_type": "code",
   "execution_count": null,
   "metadata": {},
   "outputs": [],
   "source": [
    "#df = clean_data(df)"
   ]
  },
  {
   "cell_type": "code",
   "execution_count": null,
   "metadata": {},
   "outputs": [],
   "source": [
    "df.to_csv('./data/'+'all-clean-data-from-santiago_'+formatted_time+'_'+'.csv',index=False)"
   ]
  },
  {
   "cell_type": "code",
   "execution_count": null,
   "metadata": {},
   "outputs": [],
   "source": [
    "#import pandas as pd\n",
    "#rango_precio=\"_PriceRange_0CLP-300000CLP\"\n",
    "#csv_file_path = './data/'+'clean-data'+'2023-05-17 23:13:52'+'_'+rango_precio+'_'+'.csv'\n",
    "\n",
    "#df = pd.read_csv(csv_file_path)\n",
    "#print(len(df))"
   ]
  },
  {
   "cell_type": "code",
   "execution_count": null,
   "metadata": {},
   "outputs": [
    {
     "name": "stdout",
     "output_type": "stream",
     "text": [
      "1280\n"
     ]
    }
   ],
   "source": [
    "#Agregar coordenadas geograficas de direcciones a Data Frame con libreria geopy\n",
    "targets_address= df['direccion'].tolist()\n",
    "\n",
    "print(len(targets_address))\n",
    "\n",
    "latitude = []\n",
    "longitude = []\n",
    "invalid_targets = []\n",
    "\n",
    "for target in targets_address:\n",
    "    location = None  # Initialize location outside the loop\n",
    "    if isinstance(target, str):\n",
    "        target = target.split(\",\")[0] + \", Santiago, Chile\"\n",
    "        max_tries = 10\n",
    "        retry_timeout = 5  # Timeout in seconds\n",
    "\n",
    "        for try_count in range(1, max_tries + 1):\n",
    "            try:\n",
    "                location = geolocator.geocode(target)\n",
    "                break  # Break out of the loop if geocoding is successful\n",
    "            except Exception as e:\n",
    "                print(\"An error occurred:\", e)\n",
    "                print(\"error number: \"+ str(try_count))\n",
    "                pass\n",
    "\n",
    "            if try_count < max_tries:\n",
    "                sleep(retry_timeout)  # Wait for the specified timeout before retrying\n",
    "\n",
    "    '''\n",
    "    while True:\n",
    "        try:\n",
    "            location = geolocator.geocode(target)\n",
    "            break  # Break out of the loop if geocoding is successful\n",
    "        except:\n",
    "            print(\"error in geolocator\")\n",
    "            continue  # Retry if an error occurs\n",
    "    '''\n",
    "    if location == None:\n",
    "        invalid_targets.append(target)\n",
    "        latitude.append(np.nan)\n",
    "        longitude.append(np.nan)\n",
    "    else:\n",
    "        latitude.append(location.latitude)\n",
    "        longitude.append(location.longitude)\n",
    "\n",
    "#from datetime import datetime\n",
    "\n",
    "#now = datetime.now()\n",
    "#formatted_time = now.strftime(\"%Y-%m-%d %H:%M:%S\")\n",
    "\n",
    "with open(\"invalid_targets_rango_precio_\"+formatted_time+\".txt\", \"w\") as file:\n",
    "    for item in invalid_targets:\n",
    "        file.write(str(item) + \"\\n\")"
   ]
  },
  {
   "cell_type": "code",
   "execution_count": null,
   "metadata": {},
   "outputs": [
    {
     "name": "stdout",
     "output_type": "stream",
     "text": [
      "1280\n"
     ]
    }
   ],
   "source": [
    "#Almacenar resultados en Data Frame\n",
    "print(len(latitude))\n",
    "df['latitud'] = latitude\n",
    "df['longitud'] = longitude"
   ]
  },
  {
   "cell_type": "code",
   "execution_count": null,
   "metadata": {},
   "outputs": [
    {
     "name": "stderr",
     "output_type": "stream",
     "text": [
      "/tmp/ipykernel_183729/3540666171.py:3: SettingWithCopyWarning: \n",
      "A value is trying to be set on a copy of a slice from a DataFrame.\n",
      "Try using .loc[row_indexer,col_indexer] = value instead\n",
      "\n",
      "See the caveats in the documentation: https://pandas.pydata.org/pandas-docs/stable/user_guide/indexing.html#returning-a-view-versus-a-copy\n",
      "  geo_df['ciudad'] = 'Santiago'\n"
     ]
    }
   ],
   "source": [
    "#Crear nuevo data frame con  direcciones validas y coordeandas geograficas no nulas \n",
    "geo_df = df[~df['latitud'].isnull()]\n",
    "geo_df['ciudad'] = 'Santiago'"
   ]
  },
  {
   "cell_type": "code",
   "execution_count": null,
   "metadata": {},
   "outputs": [],
   "source": [
    "#formatted_time = 'new_way'\n",
    "geo_df.to_csv('./data/'+'all_santiago_locations_'+formatted_time+'_'+'_'+'.csv',index=False)"
   ]
  }
 ],
 "metadata": {
  "kernelspec": {
   "display_name": "Python 3.8.5 64-bit",
   "metadata": {
    "interpreter": {
     "hash": "265f6c375f5723599e793514545a17c1828385c656a37de44dc67ad3be04634e"
    }
   },
   "name": "python3"
  },
  "language_info": {
   "codemirror_mode": {
    "name": "ipython",
    "version": 3
   },
   "file_extension": ".py",
   "mimetype": "text/x-python",
   "name": "python",
   "nbconvert_exporter": "python",
   "pygments_lexer": "ipython3",
   "version": "3.10.6"
  },
  "orig_nbformat": 2
 },
 "nbformat": 4,
 "nbformat_minor": 2
}
