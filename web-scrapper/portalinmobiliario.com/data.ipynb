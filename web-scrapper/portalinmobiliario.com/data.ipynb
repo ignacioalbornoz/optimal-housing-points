{
 "cells": [
  {
   "cell_type": "code",
   "execution_count": 1,
   "metadata": {
    "tags": []
   },
   "outputs": [],
   "source": [
    "from helpers import *\n",
    "import pandas as pd \n",
    "import numpy as np \n",
    "import re\n",
    "from geopy.geocoders import Nominatim\n",
    "geolocator = Nominatim(user_agent=\"my_app3\", timeout=5)\n",
    "import time"
   ]
  },
  {
   "cell_type": "code",
   "execution_count": 2,
   "metadata": {
    "tags": []
   },
   "outputs": [
    {
     "name": "stdout",
     "output_type": "stream",
     "text": [
      "Total informacion extraida de departamentos en arriendo: 1280\n",
      "Web Scraping Completado!\n",
      "\n",
      "                                              direccion   precio   \n",
      "0     Lira 245, Santa Isabel, Santiago, RM (Metropol...  580.000  \\\n",
      "1     Av. Almte. Blanco Encalada 2527, Barrio Repúbl...  470.000   \n",
      "2     Gral. Bulnes 259, Barrio Yungay, Santiago, RM ...  550.000   \n",
      "3     Chiloé 1951, Franklin - Biobío, Santiago, RM (...  450.000   \n",
      "4     Matucana 1161, Parque Los Reyes, Santiago, RM ...  522.000   \n",
      "...                                                 ...      ...   \n",
      "1275  Almirante Latorre, Santiago, Chile, Barrio Rep...  550.000   \n",
      "1276  Tarapacá 752, Santiago, Chile, Bulnes, Santiag...  450.000   \n",
      "1277  Almirante Latorre, Santiago, Chile, Barrio Rep...  550.000   \n",
      "1278  San Isidro 345, Santiago, Chile, Santa Isabel,...  470.000   \n",
      "1279  Avenida Ejército Libertador 300 - 600, Santiag...  600.000   \n",
      "\n",
      "                            gastos_comunes   \n",
      "0      Gastos comunes aproximados $ 85.000  \\\n",
      "1      Gastos comunes aproximados $ 75.000   \n",
      "2      Gastos comunes aproximados $ 90.000   \n",
      "3      Gastos comunes aproximados $ 80.000   \n",
      "4      Gastos comunes aproximados $ 95.000   \n",
      "...                                    ...   \n",
      "1275  Gastos comunes aproximados $ 150.000   \n",
      "1276   Gastos comunes aproximados $ 80.000   \n",
      "1277  Gastos comunes aproximados $ 150.000   \n",
      "1278   Gastos comunes aproximados $ 80.000   \n",
      "1279   Gastos comunes aproximados $ 60.000   \n",
      "\n",
      "                                 caracteristicas  num_caracteristicas   \n",
      "0        58 m² totales / 2 dormitorios / 2 baños                    3  \\\n",
      "1     46.32 m² totales / 2 dormitorios / 2 baños                    3   \n",
      "2        56 m² totales / 2 dormitorios / 2 baños                    3   \n",
      "3     48.98 m² totales / 2 dormitorios / 2 baños                    3   \n",
      "4        58 m² totales / 3 dormitorios / 2 baños                    3   \n",
      "...                                          ...                  ...   \n",
      "1275     70 m² totales / 2 dormitorios / 2 baños                    3   \n",
      "1276     60 m² totales / 2 dormitorios / 2 baños                    3   \n",
      "1277     70 m² totales / 2 dormitorios / 2 baños                    3   \n",
      "1278     59 m² totales / 2 dormitorios / 2 baños                    3   \n",
      "1279     60 m² totales / 2 dormitorios / 2 baños                    3   \n",
      "\n",
      "     fecha_descarga                          fecha_publicacion   \n",
      "0        2023-05-19  Publicado hace 7 días por Assetplan Chile  \\\n",
      "1        2023-05-19  Publicado hace 8 días por Assetplan Chile   \n",
      "2        2023-05-19  Publicado hace 8 días por Assetplan Chile   \n",
      "3        2023-05-19  Publicado hace 8 días por Assetplan Chile   \n",
      "4        2023-05-19  Publicado hace 8 días por Assetplan Chile   \n",
      "...             ...                                        ...   \n",
      "1275     2023-05-19                     Publicado hace 12 días   \n",
      "1276     2023-05-19                      Publicado hace 8 días   \n",
      "1277     2023-05-19                     Publicado hace 12 días   \n",
      "1278     2023-05-19                     Publicado hace 11 días   \n",
      "1279     2023-05-19                     Publicado hace 12 días   \n",
      "\n",
      "                                                 titulo   \n",
      "0        Edificio Lira (1 Est. 1 Bod.) Vista Sur Piso 1  \\\n",
      "1     Edificio Av. Almte. Blanco Encalada (1 Est. 1 ...   \n",
      "2     Edificio Gral. Bulnes (1 Est. 1 Bod.) Vista Su...   \n",
      "3      Edificio Chiloé (1 Est. 1 Bod.) Vista Sur Piso 5   \n",
      "4     Edificio Matucana (1 Est. 1 Bod.) Vista Norte ...   \n",
      "...                                                 ...   \n",
      "1275  Departamento Impecable Santiago Centro Barrio ...   \n",
      "1276    Departamento  2 Dormitorios Con Estacionamiento   \n",
      "1277  Departamento Impecable Santiago Centro Barrio ...   \n",
      "1278           Excelente Departamento Metro Santa Lucía   \n",
      "1279      Excelente Ubicación, Estacionamiento Y Bodega   \n",
      "\n",
      "                                                    url  \n",
      "0     https://www.portalinmobiliario.com/MLC-1383404...  \n",
      "1     https://www.portalinmobiliario.com/MLC-1382925...  \n",
      "2     https://www.portalinmobiliario.com/MLC-1649835...  \n",
      "3     https://www.portalinmobiliario.com/MLC-1649868...  \n",
      "4     https://www.portalinmobiliario.com/MLC-1649835...  \n",
      "...                                                 ...  \n",
      "1275  https://www.portalinmobiliario.com/MLC-1380988...  \n",
      "1276  https://www.portalinmobiliario.com/MLC-1382935...  \n",
      "1277  https://www.portalinmobiliario.com/MLC-1381000...  \n",
      "1278  https://www.portalinmobiliario.com/MLC-1636468...  \n",
      "1279  https://www.portalinmobiliario.com/MLC-1380999...  \n",
      "\n",
      "[1280 rows x 9 columns]\n"
     ]
    }
   ],
   "source": [
    "#Realizar Web Scraping \n",
    "\"\"\"\n",
    "Region: Recomendable escribir nombre de region igual al configurado  por defecto en la pagina de portal inmobiliario\n",
    "        fijarse en url de busqueda, por ejemplo: al escribir santiago en buscador principal, la pagina redirige a los resultados con la         categoria \"santiago-metropolitana\"\n",
    "pagina principal: https://www.portalinmobiliario.com/\n",
    "ejemplo nombre de region url: https://www.portalinmobiliario.com/arriendo/departamento/santiago-metropolitana\n",
    "ejemplo nombre de region url con rango de precio: https://www.portalinmobiliario.com/arriendo/departamento/santiago-metropolitana/_PriceRange_370000CLP-450000LP\n",
    "\n",
    "https://www.portalinmobiliario.com/arriendo/departamento/santiago-metropolitana/_PriceRange_450000CLP-0CLP\n",
    "\n",
    "Pages: Cantidad de paginas de resultados para la busqueda de ofertas,  no se puede superar el numero de paginas de resultados que existen en portalinmobiliario según la region especificada.\n",
    "\n",
    "Scopes: pueden ser arriendo o venta.\n",
    "\n",
    "type: puede ser departamento, casa, sitio, parcela, oficina, comercial, industrial, agricola, terreno-en-construccion, bodega, estacionamiento,  loteo, otros \n",
    "(considerar que webscraping esta optimizado para departamentos, por lo que puede que al utilizar otro tipo de inmueble algunas columnas como baños, habitaciones,etc podrian no coincidir, debido a que la información para cada tipo de inmueble es distinta)\n",
    "\"\"\"\n",
    "#rango_precio=\"_PriceRange_300001CLP-370000CLP\"\n",
    "rango_precio=\"_PriceRange_450000CLP-0CLP\"\n",
    "df = webscraping_deptos(region=\"santiago-metropolitana\",pages=40,type='departamento',scope='arriendo', rango_precio=rango_precio)\n",
    "print(df)"
   ]
  },
  {
   "cell_type": "code",
   "execution_count": 3,
   "metadata": {},
   "outputs": [],
   "source": [
    "from datetime import datetime\n",
    "\n",
    "now = datetime.now()\n",
    "formatted_time = now.strftime(\"%Y-%m-%d %H-%M-%S\")\n",
    "\n",
    "df.to_csv('./data/'+'data-raw_'+formatted_time+'_'+rango_precio+'_'+'.csv',index=False)"
   ]
  },
  {
   "cell_type": "code",
   "execution_count": 4,
   "metadata": {},
   "outputs": [],
   "source": [
    "def clean_data2(df):\n",
    "    df['direccion'] = df['direccion'].str.replace(\"/\",\",\")\n",
    "\n",
    "\n",
    "    return df"
   ]
  },
  {
   "cell_type": "code",
   "execution_count": 5,
   "metadata": {},
   "outputs": [],
   "source": [
    "df = clean_data2(df)"
   ]
  },
  {
   "cell_type": "code",
   "execution_count": 6,
   "metadata": {},
   "outputs": [],
   "source": [
    "def clean_data(df):\n",
    "    df = df[df.titulo.notnull()]\n",
    "    df['titulo'] = df['titulo'].str.replace(r\"\\n|\\t\",\"\")\n",
    "    df['titulo'] = df['titulo'].str.replace(r\"\\n|\\t\",\"\")\n",
    "    df['descripcion'] = df['descripcion'].str.replace(r\"\\n|\\t\",\"\")\n",
    "    df['ambiente'] = df['ambiente'].str.replace(r\"\\n\",\"\").str.replace(r\"\\t\\t\",\"; \").str.replace(r\"\\t\",\"\")\n",
    "    df['comodidades'] = df['comodidades'].str.replace(r\"\\n\",\"\").str.replace(r\"\\t\\t\",\"; \").str.replace(r\"\\t\",\"\")\n",
    "    df['otras caracteristicas'] = df['otras caracteristicas'].str.replace(r\"\\n\",\"\").str.replace(r\"\\t\\t\",\"; \").str.replace(r\"\\t\",\"\")\n",
    "    df['precio'] = df['precio'].str.replace(\".\",\"\")\n",
    "    df['gastos comunes'] = df['gastos comunes'].str.replace(\"CLP\",\"\")\n",
    "    df['habitaciones'] = df['habitaciones'].str.replace(r\"-\\s+\\d\\s\\w*\",\"\").str.replace('Dormitorio',\"\").str.strip()\n",
    "    df['banos'] = df['banos'].str.replace(r\"-\\s+\\d\\s\\w*\",\"\").str.replace(r'Baño|s',\"\").str.strip()\n",
    "    df['direccion'] = df['direccion'].str.replace(\"/\",\",\")\n",
    "    df['m2_utiles'] = df['m2_utiles'].str.replace(r\"-.*$|m.\",\"\")\n",
    "\n",
    "    return df"
   ]
  },
  {
   "cell_type": "code",
   "execution_count": 7,
   "metadata": {},
   "outputs": [],
   "source": [
    "#df = clean_data(df)"
   ]
  },
  {
   "cell_type": "code",
   "execution_count": 8,
   "metadata": {},
   "outputs": [],
   "source": [
    "df.to_csv('./data/'+'clean-data'+formatted_time+rango_precio+'_'+'.csv',index=False)"
   ]
  },
  {
   "cell_type": "code",
   "execution_count": 9,
   "metadata": {},
   "outputs": [],
   "source": [
    "#import pandas as pd\n",
    "#rango_precio=\"_PriceRange_0CLP-300000CLP\"\n",
    "#csv_file_path = './data/'+'clean-data'+'2023-05-17 23:13:52'+'_'+rango_precio+'_'+'.csv'\n",
    "\n",
    "#df = pd.read_csv(csv_file_path)\n",
    "#print(len(df))"
   ]
  },
  {
   "cell_type": "code",
   "execution_count": 10,
   "metadata": {},
   "outputs": [
    {
     "name": "stdout",
     "output_type": "stream",
     "text": [
      "1280\n"
     ]
    }
   ],
   "source": [
    "#Agregar coordenadas geograficas de direcciones a Data Frame con libreria geopy\n",
    "targets_address= df['direccion'].tolist()\n",
    "\n",
    "print(len(targets_address))\n",
    "\n",
    "latitude = []\n",
    "longitude = []\n",
    "invalid_targets = []\n",
    "\n",
    "for target in targets_address:\n",
    "    location = None  # Initialize location outside the loop\n",
    "    if isinstance(target, str):\n",
    "        target = target.split(\",\")[0] + \", Santiago, Chile\"\n",
    "        max_tries = 10\n",
    "        retry_timeout = 5  # Timeout in seconds\n",
    "\n",
    "        for try_count in range(1, max_tries + 1):\n",
    "            try:\n",
    "                location = geolocator.geocode(target)\n",
    "                break  # Break out of the loop if geocoding is successful\n",
    "            except Exception as e:\n",
    "                print(\"An error occurred:\", e)\n",
    "                print(\"error number: \"+ str(try_count))\n",
    "                pass\n",
    "\n",
    "            if try_count < max_tries:\n",
    "                sleep(retry_timeout)  # Wait for the specified timeout before retrying\n",
    "\n",
    "    '''\n",
    "    while True:\n",
    "        try:\n",
    "            location = geolocator.geocode(target)\n",
    "            break  # Break out of the loop if geocoding is successful\n",
    "        except:\n",
    "            print(\"error in geolocator\")\n",
    "            continue  # Retry if an error occurs\n",
    "    '''\n",
    "    if location == None:\n",
    "        invalid_targets.append(target)\n",
    "        latitude.append(np.nan)\n",
    "        longitude.append(np.nan)\n",
    "    else:\n",
    "        latitude.append(location.latitude)\n",
    "        longitude.append(location.longitude)\n",
    "\n",
    "#from datetime import datetime\n",
    "\n",
    "#now = datetime.now()\n",
    "#formatted_time = now.strftime(\"%Y-%m-%d %H:%M:%S\")\n",
    "\n",
    "with open(\"invalid_targets_rango_precio_\"+formatted_time+\".txt\", \"w\") as file:\n",
    "    for item in invalid_targets:\n",
    "        file.write(str(item) + \"\\n\")"
   ]
  },
  {
   "cell_type": "code",
   "execution_count": 14,
   "metadata": {},
   "outputs": [
    {
     "name": "stdout",
     "output_type": "stream",
     "text": [
      "1280\n"
     ]
    }
   ],
   "source": [
    "#Almacenar resultados en Data Frame\n",
    "print(len(latitude))\n",
    "df['latitud'] = latitude\n",
    "df['longitud'] = longitude"
   ]
  },
  {
   "cell_type": "code",
   "execution_count": 15,
   "metadata": {},
   "outputs": [
    {
     "name": "stderr",
     "output_type": "stream",
     "text": [
      "/tmp/ipykernel_183729/3540666171.py:3: SettingWithCopyWarning: \n",
      "A value is trying to be set on a copy of a slice from a DataFrame.\n",
      "Try using .loc[row_indexer,col_indexer] = value instead\n",
      "\n",
      "See the caveats in the documentation: https://pandas.pydata.org/pandas-docs/stable/user_guide/indexing.html#returning-a-view-versus-a-copy\n",
      "  geo_df['ciudad'] = 'Santiago'\n"
     ]
    }
   ],
   "source": [
    "#Crear nuevo data frame con  direcciones validas y coordeandas geograficas no nulas \n",
    "geo_df = df[~df['latitud'].isnull()]\n",
    "geo_df['ciudad'] = 'Santiago'"
   ]
  },
  {
   "cell_type": "code",
   "execution_count": 13,
   "metadata": {},
   "outputs": [],
   "source": [
    "#formatted_time = 'new_way'\n",
    "geo_df.to_csv('./data/'+'santiago_locations_'+formatted_time+'_'+rango_precio+'_'+'.csv',index=False)"
   ]
  }
 ],
 "metadata": {
  "kernelspec": {
   "display_name": "Python 3.8.5 64-bit",
   "metadata": {
    "interpreter": {
     "hash": "265f6c375f5723599e793514545a17c1828385c656a37de44dc67ad3be04634e"
    }
   },
   "name": "python3"
  },
  "language_info": {
   "codemirror_mode": {
    "name": "ipython",
    "version": 3
   },
   "file_extension": ".py",
   "mimetype": "text/x-python",
   "name": "python",
   "nbconvert_exporter": "python",
   "pygments_lexer": "ipython3",
   "version": "3.10.6"
  },
  "orig_nbformat": 2
 },
 "nbformat": 4,
 "nbformat_minor": 2
}
